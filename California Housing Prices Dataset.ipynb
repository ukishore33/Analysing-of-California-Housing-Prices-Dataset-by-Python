{
  "nbformat": 4,
  "nbformat_minor": 0,
  "metadata": {
    "colab": {
      "provenance": []
    },
    "kernelspec": {
      "name": "python3",
      "display_name": "Python 3"
    },
    "language_info": {
      "name": "python"
    }
  },
  "cells": [
    {
      "cell_type": "markdown",
      "source": [
        "#Importing Libraries"
      ],
      "metadata": {
        "id": "XS2W8ChXimqq"
      }
    },
    {
      "cell_type": "code",
      "source": [
        "import pandas as pd             #importing pandas\n",
        "import os                       #importing os library for reading a data\n",
        "import matplotlib.pyplot as plt #importing matplot library for visualizing the data\n",
        "import numpy as np              #importing numpy library "
      ],
      "metadata": {
        "id": "z0BTvIQ8iu6i"
      },
      "execution_count": 1,
      "outputs": []
    },
    {
      "cell_type": "markdown",
      "source": [
        "The action performed here is importing of necessary libraries for performing further required actions"
      ],
      "metadata": {
        "id": "MGAylUo3kBtF"
      }
    },
    {
      "cell_type": "markdown",
      "source": [
        "#Uploading the data (in excel format) into Python"
      ],
      "metadata": {
        "id": "wnK7orIQk3Ji"
      }
    },
    {
      "cell_type": "code",
      "source": [
        "cwd = os.getcwd()                             # For getting the current working directory\n",
        "file_path = os.path.join(cwd, 'housing.xlsx') # For identifying the file path relative to the current working directory\n",
        "df = pd.read_excel(file_path)                 # For reading the Excel file"
      ],
      "metadata": {
        "id": "mGsISrpaT5wE"
      },
      "execution_count": 3,
      "outputs": []
    },
    {
      "cell_type": "code",
      "source": [
        "print(df.head()) # For printing first 5 row of the Excel file"
      ],
      "metadata": {
        "colab": {
          "base_uri": "https://localhost:8080/"
        },
        "id": "2Lt8c6RSUUy_",
        "outputId": "f5cb517d-7d6a-41ca-b183-5c7f7164ac1b"
      },
      "execution_count": 4,
      "outputs": [
        {
          "output_type": "stream",
          "name": "stdout",
          "text": [
            "   longitude  latitude  housing_median_age  total_rooms  total_bedrooms  \\\n",
            "0    -122.23     37.88                  41          880           129.0   \n",
            "1    -122.22     37.86                  21         7099          1106.0   \n",
            "2    -122.24     37.85                  52         1467           190.0   \n",
            "3    -122.25     37.85                  52         1274           235.0   \n",
            "4    -122.25     37.85                  52         1627           280.0   \n",
            "\n",
            "   population  households  median_income  median_house_value ocean_proximity  \n",
            "0         322         126         8.3252              452600        NEAR BAY  \n",
            "1        2401        1138         8.3014              358500        NEAR BAY  \n",
            "2         496         177         7.2574              352100        NEAR BAY  \n",
            "3         558         219         5.6431              341300        NEAR BAY  \n",
            "4         565         259         3.8462              342200        NEAR BAY  \n"
          ]
        }
      ]
    },
    {
      "cell_type": "markdown",
      "source": [
        "Here the excel file is uploaded to the google collab file and with the help of the above codes it is readed to df variable and with the help print function it is printed."
      ],
      "metadata": {
        "id": "GW9qWTsekqSt"
      }
    },
    {
      "cell_type": "markdown",
      "source": [
        "#About the dataset"
      ],
      "metadata": {
        "id": "qVHN2zAXvL6X"
      }
    },
    {
      "cell_type": "markdown",
      "source": [
        "The dataset consists of 10 columns of 20640 rows each. \n",
        "\n",
        "\n",
        "\n",
        "The first column longitude is a continuous variable with sub classification as interval and the data type is bool which represent geographical location of house unit.\n",
        "\n",
        "The second column latitude is also a continuous variable with sub classification as interval and the data type is bool which represent geographical location of house unit.\n",
        "\n",
        "The third column housing median age is a continuous variable and the data type is integer which represent the median age of the housing units in the neighborhood.\n",
        "\n",
        "The fourth column total rooms is a discrete variable (which should be counted) and the data type is integer which represent the total number of rooms.\n",
        "\n",
        "The fifth column total bedrooms is also a discrete variable (which should be counted) and the data type is bool which represents the total number of bedrooms.\n",
        "\n",
        "The sixth column Population is also a discrete variable (which should be counted) and the data type is integer which represent the total population.\n",
        "\n",
        "The seventh column households is also a discrete variable (which should be counted) and the data type is integer which represent the total households in the unit.\n",
        "\n",
        "The eightth column median income is a continuous variable (which should be measured) and the data type is bool which represents the median income of households in the neighborhood.\n",
        "\n",
        "The nineth column median house value is a continuous variable (which should be measured) and the data type is integer which represents the median value of homes in the neighborhood.\n",
        "\n",
        "The tenth column ocean proximity is nominal variable and the data type is string which represents the proximity of the house to the ocean."
      ],
      "metadata": {
        "id": "BFTVrGTkvQ9A"
      }
    },
    {
      "cell_type": "markdown",
      "source": [
        "1. What is the average median income of the data set and check the distribution of data using appropriate plots. Please explain the distribution of the plot.\n"
      ],
      "metadata": {
        "id": "W5DPjkfHfd_J"
      }
    },
    {
      "cell_type": "code",
      "source": [
        "mi = df.loc[:, 'median_income'] #here it identifies the column median_income as variable mi\n",
        "print(mi)                       #here it prints mi variable"
      ],
      "metadata": {
        "colab": {
          "base_uri": "https://localhost:8080/"
        },
        "id": "9t-y1wjJVFDu",
        "outputId": "db766fe8-020b-4613-c4d9-6bba4296ed00"
      },
      "execution_count": 4,
      "outputs": [
        {
          "output_type": "stream",
          "name": "stdout",
          "text": [
            "0        8.3252\n",
            "1        8.3014\n",
            "2        7.2574\n",
            "3        5.6431\n",
            "4        3.8462\n",
            "          ...  \n",
            "20635    1.5603\n",
            "20636    2.5568\n",
            "20637    1.7000\n",
            "20638    1.8672\n",
            "20639    2.3886\n",
            "Name: median_income, Length: 20640, dtype: float64\n"
          ]
        }
      ]
    },
    {
      "cell_type": "markdown",
      "source": [
        "here the column median income is identified as mi (median income) variable and it printed with the help of print function."
      ],
      "metadata": {
        "id": "V82znKbJmQlg"
      }
    },
    {
      "cell_type": "code",
      "source": [
        "ami = mi.mean()  #here it calculates the mean (average) of median income and stores it in the variable mi\n",
        "print('Average median income:', ami) #here it prints the average median income"
      ],
      "metadata": {
        "colab": {
          "base_uri": "https://localhost:8080/"
        },
        "id": "srI1Chf8WlDJ",
        "outputId": "1a6cdcf1-3cf2-4eaa-91fa-6e7b9faeb7bd"
      },
      "execution_count": 5,
      "outputs": [
        {
          "output_type": "stream",
          "name": "stdout",
          "text": [
            "Average median income: 3.8706710029069766\n"
          ]
        }
      ]
    },
    {
      "cell_type": "markdown",
      "source": [
        "Here the average of median income is calculated using mean function and stored it in ami(average median income) variable and it is printed using print function."
      ],
      "metadata": {
        "id": "U8jAbPY5mu4A"
      }
    },
    {
      "cell_type": "code",
      "source": [
        "plt.hist(df['median_income'], bins=70) #here it creates the plot\n",
        "plt.xlabel('Median income') #here it sets x axis name\n",
        "plt.ylabel('Frequency')  #here it sets t axis name\n",
        "plt.title('Distribution of median income') #here it sets title for plot\n",
        "plt.show()       #here it shows the plot"
      ],
      "metadata": {
        "colab": {
          "base_uri": "https://localhost:8080/",
          "height": 295
        },
        "id": "ldzqyapBYLkB",
        "outputId": "228b6699-ef6b-4a62-cd27-1e4aadb55c9e"
      },
      "execution_count": 6,
      "outputs": [
        {
          "output_type": "display_data",
          "data": {
            "text/plain": [
              "<Figure size 432x288 with 1 Axes>"
            ],
            "image/png": "[encoded data removed]"
          },
          "metadata": {
            "needs_background": "light"
          }
        }
      ]
    },
    {
      "cell_type": "markdown",
      "source": [
        "Here using the matplot library, required data given like title name:-Distribution of median income,x axis name:-frequency, y axis name:-median income, which column to consider to measure :- median income and roughly how much data to visualize:-70 ,etc.\n",
        "\n",
        "The resulted plot shows that it is right skewed that means there are a less households with very high incomes, while the most of the households have very lower incomes.\n",
        "\n",
        "The height of the bars on the plot indicate the frequency of each income range, the taller bar indicates that more households falling in that income range."
      ],
      "metadata": {
        "id": "7IdGRbxln64j"
      }
    },
    {
      "cell_type": "markdown",
      "source": [
        "2. Draw an appropriate plot to see the distribution of housing_median_age and explain your observations."
      ],
      "metadata": {
        "id": "H2E06eAYY_55"
      }
    },
    {
      "cell_type": "code",
      "source": [
        "print(df['housing_median_age']) #here it selects and prints the column housing median age"
      ],
      "metadata": {
        "colab": {
          "base_uri": "https://localhost:8080/"
        },
        "id": "xnp4_uhxZO1X",
        "outputId": "20757274-592c-4db8-cfba-c5185bc39f02"
      },
      "execution_count": 7,
      "outputs": [
        {
          "output_type": "stream",
          "name": "stdout",
          "text": [
            "0        41\n",
            "1        21\n",
            "2        52\n",
            "3        52\n",
            "4        52\n",
            "         ..\n",
            "20635    25\n",
            "20636    18\n",
            "20637    17\n",
            "20638    18\n",
            "20639    16\n",
            "Name: housing_median_age, Length: 20640, dtype: int64\n"
          ]
        }
      ]
    },
    {
      "cell_type": "markdown",
      "source": [
        "The column housing median age is printed using print function here.The print function in data sets print head and tail parts of some of the large dataset."
      ],
      "metadata": {
        "id": "nzr9t3JVsWxL"
      }
    },
    {
      "cell_type": "code",
      "source": [
        "plt.hist(df['housing_median_age'], bins=80) #here it creates the plot\n",
        "plt.xlabel('Housing median age') #here it sets the x axis name\n",
        "plt.ylabel('Frequency') #here it sets the y axis name\n",
        "plt.title('Distribution of housing median age') #here it sets the title for plot\n",
        "plt.show()   #here it shows the plot"
      ],
      "metadata": {
        "colab": {
          "base_uri": "https://localhost:8080/",
          "height": 295
        },
        "id": "knpbWDbYYbsc",
        "outputId": "b3d55f8f-c861-4769-a5ba-ae6255a102cc"
      },
      "execution_count": 8,
      "outputs": [
        {
          "output_type": "display_data",
          "data": {
            "text/plain": [
              "<Figure size 432x288 with 1 Axes>"
            ],
            "image/png": "[encoded data removed]"
          },
          "metadata": {
            "needs_background": "light"
          }
        }
      ]
    },
    {
      "cell_type": "markdown",
      "source": [
        "Here using the matplot library, required data given like title name:-distribution of housing median age,x axis name:- frequency, y axis name:-Housing median age, which column to consider to measure:-housing median age and roughly how much data to visualize:-80,etc.\n",
        "\n",
        "The plot shows that the distribution of 'housing_median_age' is roughly bell-shaped that indicates that the histograph is majorly symmetrical.\n",
        "\n",
        "some of the outliers are seen rarely. no abnormal distribution or skewdness are noticed that indicates the data is distributed equally.\n",
        "\n"
      ],
      "metadata": {
        "id": "dXjrEjBarPgM"
      }
    },
    {
      "cell_type": "markdown",
      "source": [
        "3. Show with the help of visualization, how median_income and median_house_values are related?"
      ],
      "metadata": {
        "id": "rnLmG2sRbpUJ"
      }
    },
    {
      "cell_type": "code",
      "source": [
        "plt.scatter(df['median_income'], df['median_house_value']) #here it creates the plot\n",
        "plt.xlabel('Median income') #here it sets x axis name\n",
        "plt.ylabel('Median house value') #here it sets y axis name\n",
        "plt.title('Relationship between median income and median house value') #here it sets title for the plot\n",
        "plt.show() #here it shows the plot"
      ],
      "metadata": {
        "colab": {
          "base_uri": "https://localhost:8080/",
          "height": 295
        },
        "id": "zEGheSv8atXM",
        "outputId": "362751f0-be12-4e44-9771-5a5a84619bad"
      },
      "execution_count": 9,
      "outputs": [
        {
          "output_type": "display_data",
          "data": {
            "text/plain": [
              "<Figure size 432x288 with 1 Axes>"
            ],
            "image/png": "[encoded data removed]"
          },
          "metadata": {
            "needs_background": "light"
          }
        }
      ]
    },
    {
      "cell_type": "markdown",
      "source": [
        "Here using the matplot library, required data given like title name:-relationship between median income and median house value,x axis name:- median house value, y axis name:-Median income, which column to consider to measure ,etc.\n",
        "\n",
        "There is a positive correlation between 'median_income' and 'median_house_value'. This means that as the median income of a neighborhood increases, the median house value also tends to increase.\n",
        "There are some outliers in the plot, particularly towards the top right corner. These are housing units with very high median incomes and correspondingly high median house values."
      ],
      "metadata": {
        "id": "n0UxipY6vudO"
      }
    },
    {
      "cell_type": "markdown",
      "source": [
        "4. Create a data set by deleting the corresponding examples from the data set for which total_bedrooms are not available."
      ],
      "metadata": {
        "id": "dyJKNMKjbsII"
      }
    },
    {
      "cell_type": "code",
      "source": [
        "print(df['total_bedrooms'].isnull().sum()) #here it gets the sum of the null bedrooms and prints the value"
      ],
      "metadata": {
        "colab": {
          "base_uri": "https://localhost:8080/"
        },
        "id": "OOx5VptJaxsm",
        "outputId": "714b5050-d63e-4cfd-a5ce-11cbafdb790f"
      },
      "execution_count": 10,
      "outputs": [
        {
          "output_type": "stream",
          "name": "stdout",
          "text": [
            "207\n"
          ]
        }
      ]
    },
    {
      "cell_type": "markdown",
      "source": [
        "Here the dataset of null values of bedrooms are particularly selected using is null function and the list is counted using sum function and the result of number is printed using print function."
      ],
      "metadata": {
        "id": "Ygeq-c84x5Y3"
      }
    },
    {
      "cell_type": "code",
      "source": [
        "new_df = df.dropna(subset=['total_bedrooms']) #here it drops the rows of null total bedrooms using dropna function and stores the values in variable new_df"
      ],
      "metadata": {
        "id": "_DAs8XwGbuH6"
      },
      "execution_count": 11,
      "outputs": []
    },
    {
      "cell_type": "markdown",
      "source": [
        "Here the the dataset of null bedrooms is deleted using dropna function and the resulting dataset is saved using new_df variable."
      ],
      "metadata": {
        "id": "9Vgmt9Obyytn"
      }
    },
    {
      "cell_type": "code",
      "source": [
        "new_df.to_csv('dwo_nb.csv', index=False) #here it creates a new file dwo_nb.csv using the variable new_df "
      ],
      "metadata": {
        "id": "LRgAn5F5cU2G"
      },
      "execution_count": 12,
      "outputs": []
    },
    {
      "cell_type": "markdown",
      "source": [
        "Here a new file is created and the dataset without null bedrooms is saved to the new file using to_csv function."
      ],
      "metadata": {
        "id": "YtUyWxwAzV21"
      }
    },
    {
      "cell_type": "code",
      "source": [
        "d1 = pd.read_csv('dwo_nb.csv') #here the last created file is read and stored in a variable d1\n",
        "print(d1) #here it prints the variable d1"
      ],
      "metadata": {
        "colab": {
          "base_uri": "https://localhost:8080/"
        },
        "id": "jBrE350kOjK5",
        "outputId": "f9537c44-524a-4a46-a985-60d9c244ad70"
      },
      "execution_count": 13,
      "outputs": [
        {
          "output_type": "stream",
          "name": "stdout",
          "text": [
            "       longitude  latitude  housing_median_age  total_rooms  total_bedrooms  \\\n",
            "0        -122.23     37.88                  41          880           129.0   \n",
            "1        -122.22     37.86                  21         7099          1106.0   \n",
            "2        -122.24     37.85                  52         1467           190.0   \n",
            "3        -122.25     37.85                  52         1274           235.0   \n",
            "4        -122.25     37.85                  52         1627           280.0   \n",
            "...          ...       ...                 ...          ...             ...   \n",
            "20428    -121.09     39.48                  25         1665           374.0   \n",
            "20429    -121.21     39.49                  18          697           150.0   \n",
            "20430    -121.22     39.43                  17         2254           485.0   \n",
            "20431    -121.32     39.43                  18         1860           409.0   \n",
            "20432    -121.24     39.37                  16         2785           616.0   \n",
            "\n",
            "       population  households  median_income  median_house_value  \\\n",
            "0             322         126         8.3252              452600   \n",
            "1            2401        1138         8.3014              358500   \n",
            "2             496         177         7.2574              352100   \n",
            "3             558         219         5.6431              341300   \n",
            "4             565         259         3.8462              342200   \n",
            "...           ...         ...            ...                 ...   \n",
            "20428         845         330         1.5603               78100   \n",
            "20429         356         114         2.5568               77100   \n",
            "20430        1007         433         1.7000               92300   \n",
            "20431         741         349         1.8672               84700   \n",
            "20432        1387         530         2.3886               89400   \n",
            "\n",
            "      ocean_proximity  \n",
            "0            NEAR BAY  \n",
            "1            NEAR BAY  \n",
            "2            NEAR BAY  \n",
            "3            NEAR BAY  \n",
            "4            NEAR BAY  \n",
            "...               ...  \n",
            "20428          INLAND  \n",
            "20429          INLAND  \n",
            "20430          INLAND  \n",
            "20431          INLAND  \n",
            "20432          INLAND  \n",
            "\n",
            "[20433 rows x 10 columns]\n"
          ]
        }
      ]
    },
    {
      "cell_type": "markdown",
      "source": [
        "here the new file is readed to a new variable d1 and it is printed."
      ],
      "metadata": {
        "id": "A_XDISnF0BTE"
      }
    },
    {
      "cell_type": "markdown",
      "source": [
        "5. Create a data set by filling the missing data with the mean value of the total_bedrooms in the original data set."
      ],
      "metadata": {
        "id": "sZ6cycmzeMPU"
      }
    },
    {
      "cell_type": "code",
      "source": [
        "mtb = df['total_bedrooms'].mean() #here it calculates the mean of total bedrooms and stores the value in the variable mtb"
      ],
      "metadata": {
        "id": "auN6ywulcZvh"
      },
      "execution_count": 14,
      "outputs": []
    },
    {
      "cell_type": "markdown",
      "source": [
        "Here the mean of total bedrooms is calculated using mean function and it is stored into variable mtb (mean of total bedrooms)"
      ],
      "metadata": {
        "id": "8AN9gdkR0eDK"
      }
    },
    {
      "cell_type": "code",
      "source": [
        "new_df = df.fillna({'total_bedrooms': mtb}) #here it fills null values of total bedrooms with mean total bedroom value and stores the values in a variable new_df"
      ],
      "metadata": {
        "id": "v1SI2DzmeTA_"
      },
      "execution_count": 15,
      "outputs": []
    },
    {
      "cell_type": "markdown",
      "source": [
        "Here the null values of bedrooms is filled with mean of bedrooms value using fillna function and it is stored in a variable new_df"
      ],
      "metadata": {
        "id": "LAWlmKHm06Tv"
      }
    },
    {
      "cell_type": "code",
      "source": [
        "new_df.to_csv('dw_nb_to_mb.csv', index=False) #here the new file is created using the variable new_df "
      ],
      "metadata": {
        "id": "pjH_6qvHeW6P"
      },
      "execution_count": 16,
      "outputs": []
    },
    {
      "cell_type": "markdown",
      "source": [
        "Here the data in variable new df is copied to newly created file(dataset with null bedrooms to mean bedrooms)"
      ],
      "metadata": {
        "id": "S6PO44-o1kGy"
      }
    },
    {
      "cell_type": "code",
      "source": [
        "d2 = pd.read_csv('dw_nb_to_mb.csv')  #here the new file created is read into a variable d2\n",
        "print(d2)                            #here it prints the variable d2"
      ],
      "metadata": {
        "colab": {
          "base_uri": "https://localhost:8080/"
        },
        "id": "7futdOyNO34N",
        "outputId": "2db9a81b-7561-4c01-a4e7-c6c60973f44f"
      },
      "execution_count": 17,
      "outputs": [
        {
          "output_type": "stream",
          "name": "stdout",
          "text": [
            "       longitude  latitude  housing_median_age  total_rooms  total_bedrooms  \\\n",
            "0        -122.23     37.88                  41          880           129.0   \n",
            "1        -122.22     37.86                  21         7099          1106.0   \n",
            "2        -122.24     37.85                  52         1467           190.0   \n",
            "3        -122.25     37.85                  52         1274           235.0   \n",
            "4        -122.25     37.85                  52         1627           280.0   \n",
            "...          ...       ...                 ...          ...             ...   \n",
            "20635    -121.09     39.48                  25         1665           374.0   \n",
            "20636    -121.21     39.49                  18          697           150.0   \n",
            "20637    -121.22     39.43                  17         2254           485.0   \n",
            "20638    -121.32     39.43                  18         1860           409.0   \n",
            "20639    -121.24     39.37                  16         2785           616.0   \n",
            "\n",
            "       population  households  median_income  median_house_value  \\\n",
            "0             322         126         8.3252              452600   \n",
            "1            2401        1138         8.3014              358500   \n",
            "2             496         177         7.2574              352100   \n",
            "3             558         219         5.6431              341300   \n",
            "4             565         259         3.8462              342200   \n",
            "...           ...         ...            ...                 ...   \n",
            "20635         845         330         1.5603               78100   \n",
            "20636         356         114         2.5568               77100   \n",
            "20637        1007         433         1.7000               92300   \n",
            "20638         741         349         1.8672               84700   \n",
            "20639        1387         530         2.3886               89400   \n",
            "\n",
            "      ocean_proximity  \n",
            "0            NEAR BAY  \n",
            "1            NEAR BAY  \n",
            "2            NEAR BAY  \n",
            "3            NEAR BAY  \n",
            "4            NEAR BAY  \n",
            "...               ...  \n",
            "20635          INLAND  \n",
            "20636          INLAND  \n",
            "20637          INLAND  \n",
            "20638          INLAND  \n",
            "20639          INLAND  \n",
            "\n",
            "[20640 rows x 10 columns]\n"
          ]
        }
      ]
    },
    {
      "cell_type": "markdown",
      "source": [
        "Here the newly created file is stored into d2 variable and printed using print function."
      ],
      "metadata": {
        "id": "2KKm1nxf2BO3"
      }
    },
    {
      "cell_type": "markdown",
      "source": [
        "6. Write a programming construct (create a user defined function) to calculate the median value of the data set wherever required."
      ],
      "metadata": {
        "id": "_Yd0TKBQe5g9"
      }
    },
    {
      "cell_type": "code",
      "source": [
        "def calculate_median(data):\n",
        "    sorted_data = sorted(data)\n",
        "    data_len = len(data)\n",
        "    if data_len % 2 == 0:\n",
        "        mid_index1 = data_len // 2\n",
        "        mid_index2 = mid_index1 - 1\n",
        "        median = (sorted_data[mid_index1] + sorted_data[mid_index2]) / 2\n",
        "        #here if the length of the data set is even,it arranges the values by ascending or descending and the median is calculated by averaging of the middle two numbers.\n",
        "    else:\n",
        "        mid_index = data_len // 2\n",
        "        median = sorted_data[mid_index]\n",
        "         #here if the length of the data set is odd,it arranges the values by ascending or descending and the median is calculated by doing floor division by 2 (that means middle number).\n",
        "    return median\n",
        "         #here in this function takes a list of numbers as input and returns the median value.\n"
      ],
      "metadata": {
        "id": "kHqdoSj4eeA7"
      },
      "execution_count": 18,
      "outputs": []
    },
    {
      "cell_type": "markdown",
      "source": [
        "Here a general definition statement is given which works with the given conditions to calculate the median of even and odd number of datasets separately. The conditions are\n",
        "\n",
        "1)if the total number of data is even , then average of middle two datas is calculated for median\n",
        "\n",
        "2) if the total number of data is odd, then the middle number of the given data is median\n",
        "\n",
        "Here it uses the arithmetical functions and conditional statements to give the genral output."
      ],
      "metadata": {
        "id": "5IICmnjsiev2"
      }
    },
    {
      "cell_type": "code",
      "source": [
        "data = [3, 1, 4, 1, 5, 9, 2, 6, 5, 3, 5]\n",
        "median = calculate_median(data)\n",
        "print(median) #here it checks the last given definition statements"
      ],
      "metadata": {
        "colab": {
          "base_uri": "https://localhost:8080/"
        },
        "id": "Kwqya5PjKabW",
        "outputId": "1d3cd220-cc12-4c62-af7c-ac7208ab084c"
      },
      "execution_count": 19,
      "outputs": [
        {
          "output_type": "stream",
          "name": "stdout",
          "text": [
            "4\n"
          ]
        }
      ]
    },
    {
      "cell_type": "markdown",
      "source": [
        "here a sample data is given to check whether the last given definition is correct. \n",
        "\n",
        "here the sample data contains 11 data .as it is odd, it outputs the  6 th number when arranged in order."
      ],
      "metadata": {
        "id": "rcAo1XDNj2TT"
      }
    },
    {
      "cell_type": "markdown",
      "source": [
        "7. Plot latitude versus longitude and explain your observations."
      ],
      "metadata": {
        "id": "UOe3ZYcMgKSl"
      }
    },
    {
      "cell_type": "code",
      "source": [
        "plt.scatter(df['longitude'], df['latitude'])\n",
        "#here it creates the plot\n",
        "\n",
        "plt.xlabel('Longitude')\n",
        "plt.ylabel('Latitude')\n",
        "#here it sets the axis labels\n",
        "\n",
        "plt.show()\n",
        "#it shows the plot here"
      ],
      "metadata": {
        "colab": {
          "base_uri": "https://localhost:8080/",
          "height": 279
        },
        "id": "id5iAAedLAcb",
        "outputId": "662f6a13-ce95-43cd-eca3-b87be369a0e8"
      },
      "execution_count": 20,
      "outputs": [
        {
          "output_type": "display_data",
          "data": {
            "text/plain": [
              "<Figure size 432x288 with 1 Axes>"
            ],
            "image/png": "[encoded data removed]"
          },
          "metadata": {
            "needs_background": "light"
          }
        }
      ]
    },
    {
      "cell_type": "markdown",
      "source": [
        "Here using the matplot library, required data given like x axis name:- latitude, y axis name:-longitude , which column to consider to measure:-latitude and longitude,etc.\n",
        "\n",
        "The resulted plot shows that while x values increases, y values decreases.so it is strong , negative and linear relationship."
      ],
      "metadata": {
        "id": "Syyk94Cc36Or"
      }
    },
    {
      "cell_type": "markdown",
      "source": [
        "8. Create a data set for which the ocean_proximity is ‘Near ocean’."
      ],
      "metadata": {
        "id": "AIYhtImHgLns"
      }
    },
    {
      "cell_type": "code",
      "source": [
        "\n",
        "no_df = df[df['ocean_proximity'] == 'NEAR OCEAN']  \n",
        "#here it filters the dataset to only include records where the ocean_proximity is 'Near ocean'\n",
        "\n",
        "\n",
        "no_df.to_csv('dno.csv', index=False) \n",
        "#here it create a file using the variable no_df\n",
        "\n",
        "\n",
        "print(no_df)\n",
        "#here it prints the variable no_df\n"
      ],
      "metadata": {
        "colab": {
          "base_uri": "https://localhost:8080/"
        },
        "id": "c1MT-KOBNACS",
        "outputId": "6bd23253-62de-4725-acbc-44c927d1fd67"
      },
      "execution_count": 21,
      "outputs": [
        {
          "output_type": "stream",
          "name": "stdout",
          "text": [
            "       longitude  latitude  housing_median_age  total_rooms  total_bedrooms  \\\n",
            "1850     -124.17     41.80                  16         2739           480.0   \n",
            "1851     -124.30     41.80                  19         2672           552.0   \n",
            "1852     -124.23     41.75                  11         3159           616.0   \n",
            "1853     -124.21     41.77                  17         3461           722.0   \n",
            "1854     -124.19     41.78                  15         3140           714.0   \n",
            "...          ...       ...                 ...          ...             ...   \n",
            "20380    -118.83     34.14                  16         1316           194.0   \n",
            "20381    -118.83     34.14                  16         1956           312.0   \n",
            "20423    -119.00     34.08                  17         1822           438.0   \n",
            "20424    -118.75     34.18                   4        16704          2704.0   \n",
            "20425    -118.75     34.17                  18         6217           858.0   \n",
            "\n",
            "       population  households  median_income  median_house_value  \\\n",
            "1850         1259         436         3.7557              109400   \n",
            "1851         1298         478         1.9797               85800   \n",
            "1852         1343         479         2.4805               73200   \n",
            "1853         1947         647         2.5795               68400   \n",
            "1854         1645         640         1.6654               74600   \n",
            "...           ...         ...            ...                 ...   \n",
            "20380         450         173        10.1597              500001   \n",
            "20381         671         319         6.4001              321800   \n",
            "20423         578         291         5.4346              428600   \n",
            "20424        6187        2207         6.6122              357600   \n",
            "20425        2703         834         6.8075              325900   \n",
            "\n",
            "      ocean_proximity  \n",
            "1850       NEAR OCEAN  \n",
            "1851       NEAR OCEAN  \n",
            "1852       NEAR OCEAN  \n",
            "1853       NEAR OCEAN  \n",
            "1854       NEAR OCEAN  \n",
            "...               ...  \n",
            "20380      NEAR OCEAN  \n",
            "20381      NEAR OCEAN  \n",
            "20423      NEAR OCEAN  \n",
            "20424      NEAR OCEAN  \n",
            "20425      NEAR OCEAN  \n",
            "\n",
            "[2658 rows x 10 columns]\n"
          ]
        }
      ]
    },
    {
      "cell_type": "markdown",
      "source": [
        "Here the only data with the strings named near ocean of column ocean proximity are selected and indicated with a variable no_df(near ocean dataset)\n",
        "\n",
        "and secondly it is saved to a new file named dno.csv(dataset of near ocean)\n",
        "\n",
        "and thirdly it is printed"
      ],
      "metadata": {
        "id": "teNQ8VxzOzba"
      }
    },
    {
      "cell_type": "code",
      "source": [
        "\n",
        "d3 = pd.read_csv('dno.csv') #here it loads the saved file and store it to a variable d3\n",
        "print(d3)                   #here it prints the variable d3"
      ],
      "metadata": {
        "colab": {
          "base_uri": "https://localhost:8080/"
        },
        "id": "dW2eS7pBNvkF",
        "outputId": "4d2db5b9-1607-4bca-a020-62d9342ecb4f"
      },
      "execution_count": 22,
      "outputs": [
        {
          "output_type": "stream",
          "name": "stdout",
          "text": [
            "      longitude  latitude  housing_median_age  total_rooms  total_bedrooms  \\\n",
            "0       -124.17     41.80                  16         2739           480.0   \n",
            "1       -124.30     41.80                  19         2672           552.0   \n",
            "2       -124.23     41.75                  11         3159           616.0   \n",
            "3       -124.21     41.77                  17         3461           722.0   \n",
            "4       -124.19     41.78                  15         3140           714.0   \n",
            "...         ...       ...                 ...          ...             ...   \n",
            "2653    -118.83     34.14                  16         1316           194.0   \n",
            "2654    -118.83     34.14                  16         1956           312.0   \n",
            "2655    -119.00     34.08                  17         1822           438.0   \n",
            "2656    -118.75     34.18                   4        16704          2704.0   \n",
            "2657    -118.75     34.17                  18         6217           858.0   \n",
            "\n",
            "      population  households  median_income  median_house_value  \\\n",
            "0           1259         436         3.7557              109400   \n",
            "1           1298         478         1.9797               85800   \n",
            "2           1343         479         2.4805               73200   \n",
            "3           1947         647         2.5795               68400   \n",
            "4           1645         640         1.6654               74600   \n",
            "...          ...         ...            ...                 ...   \n",
            "2653         450         173        10.1597              500001   \n",
            "2654         671         319         6.4001              321800   \n",
            "2655         578         291         5.4346              428600   \n",
            "2656        6187        2207         6.6122              357600   \n",
            "2657        2703         834         6.8075              325900   \n",
            "\n",
            "     ocean_proximity  \n",
            "0         NEAR OCEAN  \n",
            "1         NEAR OCEAN  \n",
            "2         NEAR OCEAN  \n",
            "3         NEAR OCEAN  \n",
            "4         NEAR OCEAN  \n",
            "...              ...  \n",
            "2653      NEAR OCEAN  \n",
            "2654      NEAR OCEAN  \n",
            "2655      NEAR OCEAN  \n",
            "2656      NEAR OCEAN  \n",
            "2657      NEAR OCEAN  \n",
            "\n",
            "[2658 rows x 10 columns]\n"
          ]
        }
      ]
    },
    {
      "cell_type": "markdown",
      "source": [
        "Here the newly created file is read and saved with a variable d3\n",
        "and finally it is printed with a print function."
      ],
      "metadata": {
        "id": "8iBk8HZXQO0T"
      }
    },
    {
      "cell_type": "markdown",
      "source": [
        "9. Find the mean and median of the median income for the data set created in question 8."
      ],
      "metadata": {
        "id": "zle59hdrgPjy"
      }
    },
    {
      "cell_type": "code",
      "source": [
        "df = pd.read_csv('dno.csv')                  #here it loads the dataset into a pandas dataframe\n",
        "\n",
        "\n",
        "mean_income = df['median_income'].mean()    #here it calculates the mean of the median income column\n",
        "print(\"Mean of median_income:\", mean_income) #here it prints the mean of median income column\n",
        "\n",
        "\n",
        "median_income = df['median_income'].median() #here it calculates the median of the median income column\n",
        "print(\"Median of median_income:\", median_income) #here it prints the median of median income column"
      ],
      "metadata": {
        "colab": {
          "base_uri": "https://localhost:8080/"
        },
        "id": "rlKFaLiWQi7a",
        "outputId": "55faf3ca-b335-4af2-9a4c-87d0a7b18392"
      },
      "execution_count": 23,
      "outputs": [
        {
          "output_type": "stream",
          "name": "stdout",
          "text": [
            "Mean of median_income: 4.0057848006019565\n",
            "Median of median_income: 3.64705\n"
          ]
        }
      ]
    },
    {
      "cell_type": "markdown",
      "source": [
        "Here the previously newly created file is read and stored with a variable df\n",
        "\n",
        "and secondly the mean of median income is calculated using the mean function and it is stored with a variable mean_income and the result is printed.\n",
        "\n",
        "and thirdly median of median income is calculated using the median function and it is stored with a variable mean_income and the result is printed. "
      ],
      "metadata": {
        "id": "yQomf5JhQpGE"
      }
    },
    {
      "cell_type": "markdown",
      "source": [
        "10. Please create a new column named total_bedroom_size. If the total bedrooms is 10 or less, it should be quoted as small. If the total bedrooms is 11 or more but less than 1000, it should be medium, otherwise it should be considered large."
      ],
      "metadata": {
        "id": "XvqQL0ZvgTzr"
      }
    },
    {
      "cell_type": "code",
      "source": [
        "conditions = [\n",
        "    df['total_bedrooms'] <= 10,\n",
        "    (df['total_bedrooms'] > 10) & (df['total_bedrooms'] < 1000),\n",
        "    df['total_bedrooms'] >= 1000\n",
        "]\n",
        "values = ['small', 'medium', 'large']\n",
        "df['total_bedroom_size'] = pd.Series(np.select(conditions, values, default='unknown'))\n",
        "#here it creates a new column called 'total_bedroom_size' with the given conditions\n",
        "\n",
        "print(df.tail())\n",
        "#here it prints the last 5 rows to verify the new column has been added"
      ],
      "metadata": {
        "colab": {
          "base_uri": "https://localhost:8080/"
        },
        "id": "iXZ_NApTgYAb",
        "outputId": "3441a624-3125-43db-a267-b1ac597fcb71"
      },
      "execution_count": 24,
      "outputs": [
        {
          "output_type": "stream",
          "name": "stdout",
          "text": [
            "      longitude  latitude  housing_median_age  total_rooms  total_bedrooms  \\\n",
            "2653    -118.83     34.14                  16         1316           194.0   \n",
            "2654    -118.83     34.14                  16         1956           312.0   \n",
            "2655    -119.00     34.08                  17         1822           438.0   \n",
            "2656    -118.75     34.18                   4        16704          2704.0   \n",
            "2657    -118.75     34.17                  18         6217           858.0   \n",
            "\n",
            "      population  households  median_income  median_house_value  \\\n",
            "2653         450         173        10.1597              500001   \n",
            "2654         671         319         6.4001              321800   \n",
            "2655         578         291         5.4346              428600   \n",
            "2656        6187        2207         6.6122              357600   \n",
            "2657        2703         834         6.8075              325900   \n",
            "\n",
            "     ocean_proximity total_bedroom_size  \n",
            "2653      NEAR OCEAN             medium  \n",
            "2654      NEAR OCEAN             medium  \n",
            "2655      NEAR OCEAN             medium  \n",
            "2656      NEAR OCEAN              large  \n",
            "2657      NEAR OCEAN             medium  \n"
          ]
        }
      ]
    },
    {
      "cell_type": "markdown",
      "source": [
        "Here a new column is added to the original file using the given conditions. the given conditions are\n",
        "\n",
        "1) if the total bedrooms are 10 or less than 10, it is mentioned as small\n",
        "\n",
        "2)if the total bedrooms are 11 or more than 11 and less than 1000, it is mentioned as medium\n",
        "\n",
        "3)if the total bedrooms are more or equal to 1000, it is mentioned as large\n",
        "\n",
        "The code uses arithmentical operations and conditional statements to work with to give required results and the conditions are stored with a variable conditions\n",
        "\n",
        "and secondly the new column total bedroom size is added to the file using the variable conditions.\n",
        "\n",
        "and thirdly it prints the original file using print function to check whether the new column is added to the original file or not.\n"
      ],
      "metadata": {
        "id": "_rjIb9OpUPAF"
      }
    },
    {
      "cell_type": "markdown",
      "source": [
        "The new column is a ordinal variable which indicates the size based on total bedrooms"
      ],
      "metadata": {
        "id": "rr-I4CS5t0oN"
      }
    }
  ]
}